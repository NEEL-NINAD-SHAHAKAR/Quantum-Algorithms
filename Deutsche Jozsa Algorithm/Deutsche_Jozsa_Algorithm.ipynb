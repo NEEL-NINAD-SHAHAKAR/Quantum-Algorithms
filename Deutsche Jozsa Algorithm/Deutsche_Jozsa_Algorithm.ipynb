{
  "nbformat": 4,
  "nbformat_minor": 0,
  "metadata": {
    "colab": {
      "provenance": [],
      "collapsed_sections": []
    },
    "kernelspec": {
      "name": "python3",
      "display_name": "Python 3"
    },
    "language_info": {
      "name": "python"
    }
  },
  "cells": [
    {
      "cell_type": "code",
      "source": [],
      "metadata": {
        "id": "bsioD4c8ClrB"
      },
      "execution_count": null,
      "outputs": []
    },
    {
      "cell_type": "code",
      "execution_count": null,
      "metadata": {
        "colab": {
          "base_uri": "https://localhost:8080/"
        },
        "id": "7CWCvgIuCVZo",
        "outputId": "1c4adc86-96aa-4669-8807-dbe026029349"
      },
      "outputs": [
        {
          "output_type": "stream",
          "name": "stdout",
          "text": [
            "hello\n"
          ]
        }
      ],
      "source": [
        "print(\"hello\")"
      ]
    },
    {
      "cell_type": "code",
      "source": [
        "pip install qiskit"
      ],
      "metadata": {
        "colab": {
          "base_uri": "https://localhost:8080/"
        },
        "id": "4FG3QhL4Cn5u",
        "outputId": "1ca9dcba-4e57-4f18-f9d2-1a6a3aa632e5"
      },
      "execution_count": null,
      "outputs": [
        {
          "output_type": "stream",
          "name": "stdout",
          "text": [
            "Looking in indexes: https://pypi.org/simple, https://us-python.pkg.dev/colab-wheels/public/simple/\n",
            "Requirement already satisfied: qiskit in /usr/local/lib/python3.7/dist-packages (0.38.0)\n",
            "Requirement already satisfied: qiskit-ibmq-provider==0.19.2 in /usr/local/lib/python3.7/dist-packages (from qiskit) (0.19.2)\n",
            "Requirement already satisfied: qiskit-terra==0.21.2 in /usr/local/lib/python3.7/dist-packages (from qiskit) (0.21.2)\n",
            "Requirement already satisfied: qiskit-aer==0.11.0 in /usr/local/lib/python3.7/dist-packages (from qiskit) (0.11.0)\n",
            "Requirement already satisfied: scipy>=1.0 in /usr/local/lib/python3.7/dist-packages (from qiskit-aer==0.11.0->qiskit) (1.7.3)\n",
            "Requirement already satisfied: numpy>=1.16.3 in /usr/local/lib/python3.7/dist-packages (from qiskit-aer==0.11.0->qiskit) (1.21.6)\n",
            "Requirement already satisfied: requests-ntlm>=1.1.0 in /usr/local/lib/python3.7/dist-packages (from qiskit-ibmq-provider==0.19.2->qiskit) (1.1.0)\n",
            "Requirement already satisfied: python-dateutil>=2.8.0 in /usr/local/lib/python3.7/dist-packages (from qiskit-ibmq-provider==0.19.2->qiskit) (2.8.2)\n",
            "Requirement already satisfied: websocket-client>=1.0.1 in /usr/local/lib/python3.7/dist-packages (from qiskit-ibmq-provider==0.19.2->qiskit) (1.4.1)\n",
            "Requirement already satisfied: urllib3>=1.21.1 in /usr/local/lib/python3.7/dist-packages (from qiskit-ibmq-provider==0.19.2->qiskit) (1.24.3)\n",
            "Requirement already satisfied: websockets>=10.0 in /usr/local/lib/python3.7/dist-packages (from qiskit-ibmq-provider==0.19.2->qiskit) (10.3)\n",
            "Requirement already satisfied: requests>=2.19 in /usr/local/lib/python3.7/dist-packages (from qiskit-ibmq-provider==0.19.2->qiskit) (2.23.0)\n",
            "Requirement already satisfied: symengine>=0.9 in /usr/local/lib/python3.7/dist-packages (from qiskit-terra==0.21.2->qiskit) (0.9.2)\n",
            "Requirement already satisfied: typing-extensions in /usr/local/lib/python3.7/dist-packages (from qiskit-terra==0.21.2->qiskit) (4.1.1)\n",
            "Requirement already satisfied: ply>=3.10 in /usr/local/lib/python3.7/dist-packages (from qiskit-terra==0.21.2->qiskit) (3.11)\n",
            "Requirement already satisfied: retworkx>=0.11.0 in /usr/local/lib/python3.7/dist-packages (from qiskit-terra==0.21.2->qiskit) (0.11.0)\n",
            "Requirement already satisfied: dill>=0.3 in /usr/local/lib/python3.7/dist-packages (from qiskit-terra==0.21.2->qiskit) (0.3.5.1)\n",
            "Requirement already satisfied: sympy>=1.3 in /usr/local/lib/python3.7/dist-packages (from qiskit-terra==0.21.2->qiskit) (1.7.1)\n",
            "Requirement already satisfied: stevedore>=3.0.0 in /usr/local/lib/python3.7/dist-packages (from qiskit-terra==0.21.2->qiskit) (3.5.0)\n",
            "Requirement already satisfied: shared-memory38 in /usr/local/lib/python3.7/dist-packages (from qiskit-terra==0.21.2->qiskit) (0.1.2)\n",
            "Requirement already satisfied: tweedledum<2.0,>=1.1 in /usr/local/lib/python3.7/dist-packages (from qiskit-terra==0.21.2->qiskit) (1.1.1)\n",
            "Requirement already satisfied: psutil>=5 in /usr/local/lib/python3.7/dist-packages (from qiskit-terra==0.21.2->qiskit) (5.4.8)\n",
            "Requirement already satisfied: six>=1.5 in /usr/local/lib/python3.7/dist-packages (from python-dateutil>=2.8.0->qiskit-ibmq-provider==0.19.2->qiskit) (1.15.0)\n",
            "Requirement already satisfied: idna<3,>=2.5 in /usr/local/lib/python3.7/dist-packages (from requests>=2.19->qiskit-ibmq-provider==0.19.2->qiskit) (2.10)\n",
            "Requirement already satisfied: chardet<4,>=3.0.2 in /usr/local/lib/python3.7/dist-packages (from requests>=2.19->qiskit-ibmq-provider==0.19.2->qiskit) (3.0.4)\n",
            "Requirement already satisfied: certifi>=2017.4.17 in /usr/local/lib/python3.7/dist-packages (from requests>=2.19->qiskit-ibmq-provider==0.19.2->qiskit) (2022.6.15)\n",
            "Requirement already satisfied: ntlm-auth>=1.0.2 in /usr/local/lib/python3.7/dist-packages (from requests-ntlm>=1.1.0->qiskit-ibmq-provider==0.19.2->qiskit) (1.5.0)\n",
            "Requirement already satisfied: cryptography>=1.3 in /usr/local/lib/python3.7/dist-packages (from requests-ntlm>=1.1.0->qiskit-ibmq-provider==0.19.2->qiskit) (38.0.1)\n",
            "Requirement already satisfied: cffi>=1.12 in /usr/local/lib/python3.7/dist-packages (from cryptography>=1.3->requests-ntlm>=1.1.0->qiskit-ibmq-provider==0.19.2->qiskit) (1.15.1)\n",
            "Requirement already satisfied: pycparser in /usr/local/lib/python3.7/dist-packages (from cffi>=1.12->cryptography>=1.3->requests-ntlm>=1.1.0->qiskit-ibmq-provider==0.19.2->qiskit) (2.21)\n",
            "Requirement already satisfied: pbr!=2.1.0,>=2.0.0 in /usr/local/lib/python3.7/dist-packages (from stevedore>=3.0.0->qiskit-terra==0.21.2->qiskit) (5.10.0)\n",
            "Requirement already satisfied: importlib-metadata>=1.7.0 in /usr/local/lib/python3.7/dist-packages (from stevedore>=3.0.0->qiskit-terra==0.21.2->qiskit) (4.12.0)\n",
            "Requirement already satisfied: zipp>=0.5 in /usr/local/lib/python3.7/dist-packages (from importlib-metadata>=1.7.0->stevedore>=3.0.0->qiskit-terra==0.21.2->qiskit) (3.8.1)\n",
            "Requirement already satisfied: mpmath>=0.19 in /usr/local/lib/python3.7/dist-packages (from sympy>=1.3->qiskit-terra==0.21.2->qiskit) (1.2.1)\n"
          ]
        }
      ]
    },
    {
      "cell_type": "code",
      "source": [
        "# initialization\n",
        "import numpy as np\n",
        "\n",
        "# importing Qiskit\n",
        "from qiskit import IBMQ, Aer\n",
        "from qiskit.providers.ibmq import least_busy\n",
        "from qiskit import QuantumCircuit, assemble, transpile\n",
        "\n",
        "# import basic plot tools\n",
        "from qiskit.visualization import plot_histogram"
      ],
      "metadata": {
        "id": "9NLYjsJ4Ctxq"
      },
      "execution_count": null,
      "outputs": []
    },
    {
      "cell_type": "code",
      "source": [
        "from qiskit.circuit.quantumcircuit import string\n",
        "from qiskit.circuit.quantumcircuitdata import QuantumCircuitData\n",
        "#Oracle\n",
        "def deutschejozsa_oracle(func,n):\n",
        "  oracle_qc=QuantumCircuit(n+1)\n",
        "#balanced input function\n",
        "\n",
        "  if func==\"balanced\":\n",
        "    #random input\n",
        "    bit=np.random.randint(1,2**n)\n",
        "    bitstring=format( bit, '0'+str(n)+'b')\n",
        "\n",
        "    for qubit in range(len(bitstring)):\n",
        "      if bitstring[qubit]=='1':\n",
        "        oracle_qc.x(qubit)\n",
        "\n",
        "\n",
        "\n",
        "    for qubit in range(n):\n",
        "      oracle_qc.cx(qubit,n)\n",
        "\n",
        "   \n",
        "\n",
        "    for qubit in range(len(bitstring)):\n",
        "      if bitstring[qubit]=='1':\n",
        "        oracle_qc.x(qubit)\n",
        "\n",
        "  if func==\"constant\":\n",
        "    output = np.random.randint(2)\n",
        "    if output == 1:\n",
        "      oracle_qc.x(n)\n",
        "\n",
        "#common gate for this oracle\n",
        "  oracle_gate = oracle_qc.to_gate()\n",
        "  oracle_gate.name = \"Oracle\"\n",
        "  return oracle_gate\n",
        "\n",
        "  \n",
        "\n",
        "\n",
        "\n",
        "\n",
        "\n",
        "\n"
      ],
      "metadata": {
        "id": "uW-GNoRvDMSo"
      },
      "execution_count": null,
      "outputs": []
    },
    {
      "cell_type": "code",
      "source": [
        "def deutschejozsa_algorithm(oracle,n):\n",
        "  algo_qc=QuantumCircuit(n+1,n)\n",
        "#output set to |->\n",
        "  algo_qc.x(n)\n",
        "  algo_qc.h(n)\n",
        "\n",
        "#input set to |+>\n",
        "  for qubit in range(n):\n",
        "    algo_qc.h(qubit)\n",
        "\n",
        "  algo_qc.barrier()\n",
        "\n",
        "#oracle gate\n",
        "  algo_qc.append(oracle,range(n+1))\n",
        "\n",
        "  algo_qc.barrier()\n",
        "\n",
        "#input measurement\n",
        "  for qubit in range(n):\n",
        "    algo_qc.h(qubit)\n",
        "\n",
        "  algo_qc.barrier()\n",
        "\n",
        "  for i in range(n):\n",
        "    algo_qc.measure(i,i)\n",
        "\n",
        "  return algo_qc\n",
        "\n",
        "\n",
        "\n"
      ],
      "metadata": {
        "id": "TfrM0G_Q5YCp"
      },
      "execution_count": null,
      "outputs": []
    },
    {
      "cell_type": "code",
      "source": [
        "n=7\n",
        "t=np.random.randint(2)\n",
        "if t==\"0\":\n",
        "  p=\"constant\"\n",
        "else:\n",
        "  p=\"balanced\"\n",
        "\n",
        "oracle_gate=deutschejozsa_oracle(p,n)\n",
        "circuit=deutschejozsa_algorithm(oracle_gate,n)\n",
        "circuit.draw()"
      ],
      "metadata": {
        "colab": {
          "base_uri": "https://localhost:8080/",
          "height": 310
        },
        "id": "MzzA5Q4CCL0_",
        "outputId": "a6bc69c7-a823-4c43-cee2-795083a688fb"
      },
      "execution_count": null,
      "outputs": [
        {
          "output_type": "execute_result",
          "data": {
            "text/plain": [
              "     ┌───┐      ░ ┌─────────┐ ░ ┌───┐ ░ ┌─┐                  \n",
              "q_0: ┤ H ├──────░─┤0        ├─░─┤ H ├─░─┤M├──────────────────\n",
              "     ├───┤      ░ │         │ ░ ├───┤ ░ └╥┘┌─┐               \n",
              "q_1: ┤ H ├──────░─┤1        ├─░─┤ H ├─░──╫─┤M├───────────────\n",
              "     ├───┤      ░ │         │ ░ ├───┤ ░  ║ └╥┘┌─┐            \n",
              "q_2: ┤ H ├──────░─┤2        ├─░─┤ H ├─░──╫──╫─┤M├────────────\n",
              "     ├───┤      ░ │         │ ░ ├───┤ ░  ║  ║ └╥┘┌─┐         \n",
              "q_3: ┤ H ├──────░─┤3        ├─░─┤ H ├─░──╫──╫──╫─┤M├─────────\n",
              "     ├───┤      ░ │  Oracle │ ░ ├───┤ ░  ║  ║  ║ └╥┘┌─┐      \n",
              "q_4: ┤ H ├──────░─┤4        ├─░─┤ H ├─░──╫──╫──╫──╫─┤M├──────\n",
              "     ├───┤      ░ │         │ ░ ├───┤ ░  ║  ║  ║  ║ └╥┘┌─┐   \n",
              "q_5: ┤ H ├──────░─┤5        ├─░─┤ H ├─░──╫──╫──╫──╫──╫─┤M├───\n",
              "     ├───┤      ░ │         │ ░ ├───┤ ░  ║  ║  ║  ║  ║ └╥┘┌─┐\n",
              "q_6: ┤ H ├──────░─┤6        ├─░─┤ H ├─░──╫──╫──╫──╫──╫──╫─┤M├\n",
              "     ├───┤┌───┐ ░ │         │ ░ └───┘ ░  ║  ║  ║  ║  ║  ║ └╥┘\n",
              "q_7: ┤ X ├┤ H ├─░─┤7        ├─░───────░──╫──╫──╫──╫──╫──╫──╫─\n",
              "     └───┘└───┘ ░ └─────────┘ ░       ░  ║  ║  ║  ║  ║  ║  ║ \n",
              "c: 7/════════════════════════════════════╩══╩══╩══╩══╩══╩══╩═\n",
              "                                         0  1  2  3  4  5  6 "
            ],
            "text/html": [
              "<pre style=\"word-wrap: normal;white-space: pre;background: #fff0;line-height: 1.1;font-family: &quot;Courier New&quot;,Courier,monospace\">     ┌───┐      ░ ┌─────────┐ ░ ┌───┐ ░ ┌─┐                  \n",
              "q_0: ┤ H ├──────░─┤0        ├─░─┤ H ├─░─┤M├──────────────────\n",
              "     ├───┤      ░ │         │ ░ ├───┤ ░ └╥┘┌─┐               \n",
              "q_1: ┤ H ├──────░─┤1        ├─░─┤ H ├─░──╫─┤M├───────────────\n",
              "     ├───┤      ░ │         │ ░ ├───┤ ░  ║ └╥┘┌─┐            \n",
              "q_2: ┤ H ├──────░─┤2        ├─░─┤ H ├─░──╫──╫─┤M├────────────\n",
              "     ├───┤      ░ │         │ ░ ├───┤ ░  ║  ║ └╥┘┌─┐         \n",
              "q_3: ┤ H ├──────░─┤3        ├─░─┤ H ├─░──╫──╫──╫─┤M├─────────\n",
              "     ├───┤      ░ │  Oracle │ ░ ├───┤ ░  ║  ║  ║ └╥┘┌─┐      \n",
              "q_4: ┤ H ├──────░─┤4        ├─░─┤ H ├─░──╫──╫──╫──╫─┤M├──────\n",
              "     ├───┤      ░ │         │ ░ ├───┤ ░  ║  ║  ║  ║ └╥┘┌─┐   \n",
              "q_5: ┤ H ├──────░─┤5        ├─░─┤ H ├─░──╫──╫──╫──╫──╫─┤M├───\n",
              "     ├───┤      ░ │         │ ░ ├───┤ ░  ║  ║  ║  ║  ║ └╥┘┌─┐\n",
              "q_6: ┤ H ├──────░─┤6        ├─░─┤ H ├─░──╫──╫──╫──╫──╫──╫─┤M├\n",
              "     ├───┤┌───┐ ░ │         │ ░ └───┘ ░  ║  ║  ║  ║  ║  ║ └╥┘\n",
              "q_7: ┤ X ├┤ H ├─░─┤7        ├─░───────░──╫──╫──╫──╫──╫──╫──╫─\n",
              "     └───┘└───┘ ░ └─────────┘ ░       ░  ║  ║  ║  ║  ║  ║  ║ \n",
              "c: 7/════════════════════════════════════╩══╩══╩══╩══╩══╩══╩═\n",
              "                                         0  1  2  3  4  5  6 </pre>"
            ]
          },
          "metadata": {},
          "execution_count": 12
        }
      ]
    },
    {
      "cell_type": "code",
      "source": [
        "aer_sim=Aer.get_backend('aer_simulator')\n",
        "transpiled_dj_circuit = transpile(circuit, aer_sim)\n",
        "qobj = assemble(transpiled_dj_circuit)\n",
        "results = aer_sim.run(qobj).result()\n",
        "answer = results.get_counts()\n",
        "plot_histogram(answer)"
      ],
      "metadata": {
        "colab": {
          "base_uri": "https://localhost:8080/",
          "height": 373
        },
        "id": "WaNzhrjyEqAo",
        "outputId": "3478a897-bc10-434c-c23b-7decc729620d"
      },
      "execution_count": null,
      "outputs": [
        {
          "output_type": "execute_result",
          "data": {
            "text/plain": [
              "<Figure size 504x360 with 1 Axes>"
            ],
            "image/png": "[encoded data removed]"
          },
          "metadata": {},
          "execution_count": 13
        }
      ]
    },
    {
      "cell_type": "code",
      "source": [
        "#Since,the probablity of getting 0000000 in measurment is zero, the input boolean function(which is choosen randomly) is a Constant function. "
      ],
      "metadata": {
        "id": "3F9eSWjZQC5X"
      },
      "execution_count": null,
      "outputs": []
    }
  ]
}